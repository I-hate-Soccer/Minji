{
 "cells": [
  {
   "cell_type": "markdown",
   "metadata": {},
   "source": [
    "## Reference:\n",
    "https://3months.tistory.com/173  \n",
    "https://apincan.tistory.com/41?category=860374"
   ]
  },
  {
   "cell_type": "code",
   "execution_count": 60,
   "metadata": {},
   "outputs": [],
   "source": [
    "import gym\n",
    "import numpy as np\n",
    "import matplotlib.pyplot as plt"
   ]
  },
  {
   "cell_type": "code",
   "execution_count": 71,
   "metadata": {},
   "outputs": [],
   "source": [
    "env=gym.make('FrozenLake-v0')"
   ]
  },
  {
   "cell_type": "code",
   "execution_count": 72,
   "metadata": {},
   "outputs": [
    {
     "name": "stdout",
     "output_type": "stream",
     "text": [
      "(16, 4)\n"
     ]
    }
   ],
   "source": [
    "# Q-Table 만들기(0으로 초기화), (number of state, action space)=(16,4)\n",
    "Q=np.zeros([env.observation_space.n,env.action_space.n])\n",
    "print(Q.shape)"
   ]
  },
  {
   "cell_type": "markdown",
   "metadata": {},
   "source": [
    "# 행동 01. random noise\n",
    "- 현재 state에서 가능한 action에 따른 Q값에 random noise를 주어서, 이 값이 최대가 되는 action을 선택함.\n",
    "- Q값에 random noise를 주었기 때문에 무조건 최대 Q를 따르지 않음.\n",
    "- random noise를 (i+1)로 나누기 때문에 어느 정도 반복 이후 Q값이 수렴 하므로, 탐험 보다는 이용(exploit) 위주"
   ]
  },
  {
   "cell_type": "code",
   "execution_count": 73,
   "metadata": {},
   "outputs": [],
   "source": [
    "learning_rate=0.85 #큐값 업데이트시 사용\n",
    "dis=0.9 # discount factor, 감가율\n",
    "num_episodes=10000 #몇 번 시도? ---> 왜 epoch라고 안하고 에피소드라고 할까..?\n",
    "reward_list=[] # 에피소드마다 보상의 합 저장하는 리스트"
   ]
  },
  {
   "cell_type": "code",
   "execution_count": 74,
   "metadata": {},
   "outputs": [],
   "source": [
    "for i in  range(num_episodes):\n",
    "    state = env.reset()\n",
    "    rAll = 0\n",
    "    done = False\n",
    "    \n",
    "    # 1000번 반복마다 lr 감소시킴 -> 이거 넣으면 정확도가 떨어짐...왜지ㅠ 0.95 같이 크게 해도 10분의 1로 줄어들음\n",
    "    #if num_episodes%100==0:\n",
    "     #   learning_rate*=0.9\n",
    "    \n",
    "    while not done:\n",
    "        # action중에 가장 보상이 큰 것 고름. random noise 추가하여 탐험+탐색\n",
    "        action = np.argmax(Q[state,:] + np.random.randn(1,env.action_space.n)/(i+1))\n",
    "        \n",
    "        # 새로운 state, rewrd, done 여부 반환\n",
    "        new_state, reward, done, _ = env.step(action)\n",
    "        \n",
    "        # Q러닝 식\n",
    "        Q[state, action] = Q[state, action] \\\n",
    "                     + learning_rate*(reward+dis*np.max(Q[new_state,:]-Q[state,action]))\n",
    "        \n",
    "\n",
    "        rAll += reward\n",
    "        state = new_state\n",
    "    \n",
    "    reward_list.append(rAll)\n",
    "    "
   ]
  },
  {
   "cell_type": "code",
   "execution_count": 75,
   "metadata": {},
   "outputs": [
    {
     "name": "stdout",
     "output_type": "stream",
     "text": [
      "Score over time: 0.6387\n",
      "Final Q-Table Values\n",
      "[[1.07680995e+00 0.00000000e+00 2.10276279e-02 0.00000000e+00]\n",
      " [0.00000000e+00 0.00000000e+00 5.91815053e-03 8.35800094e-01]\n",
      " [1.21347129e-02 9.02352064e-03 1.07360739e-02 9.93243262e-01]\n",
      " [3.72902368e-03 1.28521616e-02 5.41396831e-03 8.23861362e-01]\n",
      " [1.08855797e+00 0.00000000e+00 8.71307308e-03 7.67691790e-03]\n",
      " [0.00000000e+00 0.00000000e+00 0.00000000e+00 0.00000000e+00]\n",
      " [5.48072950e-06 3.56872124e-07 7.45651468e-01 2.84192677e-07]\n",
      " [0.00000000e+00 0.00000000e+00 0.00000000e+00 0.00000000e+00]\n",
      " [5.87942301e-03 3.79955340e-04 9.41356901e-04 1.10047962e+00]\n",
      " [1.23687589e-03 1.10372909e+00 5.11697532e-03 1.71360233e-03]\n",
      " [1.10933865e+00 1.78201807e-03 1.10661072e-03 0.00000000e+00]\n",
      " [0.00000000e+00 0.00000000e+00 0.00000000e+00 0.00000000e+00]\n",
      " [0.00000000e+00 0.00000000e+00 0.00000000e+00 0.00000000e+00]\n",
      " [0.00000000e+00 8.64957193e-03 1.10903020e+00 7.87177265e-04]\n",
      " [0.00000000e+00 0.00000000e+00 1.11103166e+00 0.00000000e+00]\n",
      " [0.00000000e+00 0.00000000e+00 0.00000000e+00 0.00000000e+00]]\n"
     ]
    },
    {
     "data": {
      "image/png": "[encoded data removed]",
      "text/plain": [
       "<Figure size 432x288 with 1 Axes>"
      ]
     },
     "metadata": {
      "needs_background": "light"
     },
     "output_type": "display_data"
    }
   ],
   "source": [
    "print(\"Score over time: \"+str(sum(reward_list)/num_episodes))\n",
    "print(\"Final Q-Table Values\")\n",
    "print(Q)\n",
    "plt.bar(range(len(reward_list)),reward_list,color='blue')\n",
    "plt.show()"
   ]
  },
  {
   "cell_type": "code",
   "execution_count": 78,
   "metadata": {},
   "outputs": [
    {
     "data": {
      "text/plain": [
       "[<matplotlib.lines.Line2D at 0x1b8dbbdbe88>]"
      ]
     },
     "execution_count": 78,
     "metadata": {},
     "output_type": "execute_result"
    },
    {
     "data": {
      "image/png": "[encoded data removed]",
      "text/plain": [
       "<Figure size 432x288 with 1 Axes>"
      ]
     },
     "metadata": {
      "needs_background": "light"
     },
     "output_type": "display_data"
    }
   ],
   "source": [
    "plot_x=[]\n",
    "plot_y=[]\n",
    "for i in range(num_episodes):\n",
    "    if i%100==0:\n",
    "        plot_x.append(i)\n",
    "        plot_y.append(sum(reward_list[i:i+100])/100)\n",
    "        \n",
    "plt.plot(plot_x,plot_y)"
   ]
  },
  {
   "cell_type": "markdown",
   "metadata": {},
   "source": [
    "# 행동 02. E-greedy\n",
    "- 어떠한 확률 값 e를 주어 e의 확률로 exploration\n",
    "> e=0.99 --> 99%확률로 탐험"
   ]
  },
  {
   "cell_type": "code",
   "execution_count": 86,
   "metadata": {},
   "outputs": [],
   "source": [
    "learning_rate=0.85 #큐값 업데이트시 사용\n",
    "dis=0.9 # discount factor, 감가율\n",
    "num_episodes=10000 #몇 번 시도? ---> 왜 epoch라고 안하고 에피소드라고 할까..?\n",
    "reward_list=[] # 에피소드마다 보상의 합 저장하는 리스트"
   ]
  },
  {
   "cell_type": "code",
   "execution_count": 87,
   "metadata": {},
   "outputs": [],
   "source": [
    "for i in range(num_episodes) : \n",
    "    state = env.reset()\n",
    "    rAll = 0\n",
    "    done = False\n",
    "\n",
    "    # 1000번 반복마다 lr 감소시킴\n",
    "    if num_episodes%1000==0:\n",
    "        learning_rate*=0.1\n",
    "        \n",
    "    # exploration의 확률 --> 학습이 진행될 수록 입실론 값 감소해야함\n",
    "    e = 1./((i / 100) + 1) # 큰것같아서 1000으로 나누니까 성능 저하됨\n",
    "    \n",
    "    while not done : \n",
    "        \n",
    "        # E-Greedy 알고리즘\n",
    "        if np.random.rand(1) > e : #랜덤으로 뽑은 숫자가 입실론보다 클 경우\n",
    "            action = np.argmax(Q[state, :]) #탐욕정책\n",
    "            \n",
    "        else : \n",
    "            action = env.action_space.sample() #랜덤하게 행동 결정\n",
    "        \n",
    "        # 새로운 state, rewrd, done 여부 반환\n",
    "        new_state, reward, done, _ = env.step(action)\n",
    "        \n",
    "        # Q러닝 식\n",
    "        Q[state, action] = Q[state, action] \\\n",
    "                     + learning_rate*(reward+dis*np.max(Q[new_state,:]-Q[state,action]))\n",
    "        \n",
    "        rAll += reward\n",
    "        state = new_state\n",
    "        \n",
    "    reward_list.append(rAll)\n"
   ]
  },
  {
   "cell_type": "code",
   "execution_count": 88,
   "metadata": {},
   "outputs": [
    {
     "name": "stdout",
     "output_type": "stream",
     "text": [
      "Success rate : 0.5399\n",
      "Final Q-Table Values\n",
      "[[1.07771706e+00 3.96932801e-01 3.59341354e-01 1.60802500e-01]\n",
      " [1.46720164e-01 7.83879335e-02 7.72625586e-02 8.73167143e-01]\n",
      " [1.36891014e-02 1.04074125e-02 1.12989189e-02 9.91829460e-01]\n",
      " [3.83849371e-03 1.90564030e-02 1.16750971e-02 8.23861362e-01]\n",
      " [1.08854976e+00 8.58730931e-03 1.66021123e-01 8.89927121e-02]\n",
      " [0.00000000e+00 0.00000000e+00 0.00000000e+00 0.00000000e+00]\n",
      " [5.49590441e-06 3.56571837e-07 7.45651468e-01 2.84192675e-07]\n",
      " [0.00000000e+00 0.00000000e+00 0.00000000e+00 0.00000000e+00]\n",
      " [5.87942301e-03 4.64361549e-04 9.41284815e-04 1.10050448e+00]\n",
      " [9.71075189e-03 1.10372909e+00 5.11697540e-03 1.71360233e-03]\n",
      " [1.10933865e+00 1.78201807e-03 1.10661072e-03 8.44352756e-23]\n",
      " [0.00000000e+00 0.00000000e+00 0.00000000e+00 0.00000000e+00]\n",
      " [0.00000000e+00 0.00000000e+00 0.00000000e+00 0.00000000e+00]\n",
      " [8.44352756e-33 1.70827949e-02 1.10903020e+00 7.87177265e-04]\n",
      " [2.54722736e-18 8.50000000e-27 1.11103166e+00 8.50000000e-03]\n",
      " [0.00000000e+00 0.00000000e+00 0.00000000e+00 0.00000000e+00]]\n"
     ]
    },
    {
     "data": {
      "image/png": "[encoded data removed]",
      "text/plain": [
       "<Figure size 432x288 with 1 Axes>"
      ]
     },
     "metadata": {
      "needs_background": "light"
     },
     "output_type": "display_data"
    }
   ],
   "source": [
    "print(\"Success rate : \"+str(sum(reward_list) / num_episodes))\n",
    "print(\"Final Q-Table Values\")\n",
    "print(Q)\n",
    "\n",
    "plt.bar(range(len(reward_list)), reward_list, color=\"blue\")\n",
    "plt.show()"
   ]
  },
  {
   "cell_type": "code",
   "execution_count": 89,
   "metadata": {},
   "outputs": [
    {
     "data": {
      "text/plain": [
       "[<matplotlib.lines.Line2D at 0x1b8dea8dcc8>]"
      ]
     },
     "execution_count": 89,
     "metadata": {},
     "output_type": "execute_result"
    },
    {
     "data": {
      "image/png": "[encoded data removed]",
      "text/plain": [
       "<Figure size 432x288 with 1 Axes>"
      ]
     },
     "metadata": {
      "needs_background": "light"
     },
     "output_type": "display_data"
    }
   ],
   "source": [
    "plot_x=[]\n",
    "plot_y=[]\n",
    "for i in range(num_episodes):\n",
    "    if i%100==0:\n",
    "        plot_x.append(i)\n",
    "        plot_y.append(sum(reward_list[i:i+100])/100)\n",
    "        \n",
    "plt.plot(plot_x,plot_y)"
   ]
  },
  {
   "cell_type": "markdown",
   "metadata": {},
   "source": [
    "---\n",
    "# 질문\n",
    "- 예상했던 결과는 학습 많이 할 수록 더 정확도 높아질 줄 알았는데 균등하게 보이는 것 같다..\n",
    "- random noise에서 learning rate를 1000번 당 0.1로 줄여줄 때 정확도가 아주 많이(50분의 1정도...?) 감소하는데 이유는??? 그리고 0.95정도로 작게 줄여도 약간(10분의 1) 줄어든다.\n",
    "- e-greedy에서는 learning rate를 안 줄일 때 0.01174, 0.95로 줄일 때 0.04208, 0.1로 줄일 때 0.02362 가 나왔다.... 그런데 이거 여러번 리셋하고 다시했는데 결과가 10배 이상 차이남 랜덤때문에 이렇게 많이 차이날 수 있나??"
   ]
  }
 ],
 "metadata": {
  "kernelspec": {
   "display_name": "minji",
   "language": "python",
   "name": "minji"
  },
  "language_info": {
   "codemirror_mode": {
    "name": "ipython",
    "version": 3
   },
   "file_extension": ".py",
   "mimetype": "text/x-python",
   "name": "python",
   "nbconvert_exporter": "python",
   "pygments_lexer": "ipython3",
   "version": "3.7.7"
  }
 },
 "nbformat": 4,
 "nbformat_minor": 4
}
